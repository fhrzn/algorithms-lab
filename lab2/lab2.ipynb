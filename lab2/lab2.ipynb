{
 "cells": [
  {
   "cell_type": "code",
   "execution_count": 238,
   "metadata": {},
   "outputs": [],
   "source": [
    "import numpy as np\n",
    "import matplotlib.pyplot as plt\n",
    "import seaborn as sns\n",
    "import math\n",
    "import random\n",
    "from scipy.optimize import minimize, brute"
   ]
  },
  {
   "cell_type": "markdown",
   "metadata": {},
   "source": [
    "## I. One dimensional methods of Exhaustive search, Dichotomy, and Golden Section"
   ]
  },
  {
   "cell_type": "code",
   "execution_count": 239,
   "metadata": {},
   "outputs": [],
   "source": [
    "def f1(x):\n",
    "    return x**3\n",
    "\n",
    "def f2(x):\n",
    "    return abs(x-0.2)\n",
    "\n",
    "def f3(x):\n",
    "    return x * math.sin(1/x)"
   ]
  },
  {
   "cell_type": "markdown",
   "metadata": {},
   "source": [
    "### Exhaustive Search"
   ]
  },
  {
   "cell_type": "code",
   "execution_count": 241,
   "metadata": {},
   "outputs": [],
   "source": [
    "def find_n(a, b, e):\n",
    "    return (b-a)/e\n",
    "\n",
    "def exhaustive(a, b, e, fx, fname):\n",
    "    n = find_n(a,b,e)\n",
    "    xk = []    \n",
    "\n",
    "    # running search\n",
    "    for k in range(int(n)):\n",
    "        x = a + k * (b-a)/n\n",
    "        xk.append(fx(x))\n",
    "    \n",
    "    min_index = np.argmin(xk)\n",
    "\n",
    "    # draw the plot\n",
    "    x_index = np.arange(a, b, e)\n",
    "\n",
    "    print(f'Total iteration - {n}')\n",
    "    print(f'Total function calls - {n}')\n",
    "\n",
    "    return x_index[min_index], xk[min_index]"
   ]
  },
  {
   "cell_type": "code",
   "execution_count": 268,
   "metadata": {},
   "outputs": [
    {
     "name": "stdout",
     "output_type": "stream",
     "text": [
      "Exhaustive Search on Function 1\n",
      "Total iteration - 1000.0\n",
      "Total function calls - 1000.0\n",
      "Minimum at x0.0 with value 0.0\n",
      "\n",
      "Exhaustive Search on Function 2\n",
      "Total iteration - 1000.0\n",
      "Total function calls - 1000.0\n",
      "Minimum at x0.2 with value 0.0\n",
      "\n",
      "Exhaustive Search on Function 3\n",
      "Total iteration - 990.0\n",
      "Total function calls - 990.0\n",
      "Minimum at x0.2230 with value -0.2172\n",
      "\n"
     ]
    }
   ],
   "source": [
    "print('Exhaustive Search on Function 1')\n",
    "x1_xmin, x1_fmin = exhaustive(0, 1, 0.001, f1, 'f(x) = x^3')\n",
    "print(f'Minimum at x{x1_xmin} with value {x1_fmin}', end='\\n\\n')\n",
    "\n",
    "print('Exhaustive Search on Function 2')\n",
    "x2_xmin, x2_fmin = exhaustive(0, 1, 0.001, f2, 'f(x) = |x-0.2|')\n",
    "print(f'Minimum at x{x2_xmin} with value {x2_fmin}', end='\\n\\n')\n",
    "\n",
    "print('Exhaustive Search on Function 3')\n",
    "x3_xmin, x3_fmin = exhaustive(0.01, 1, 0.001, f3, 'f(x) = x * sin(1/x)')\n",
    "print(f'Minimum at x{x3_xmin:.4f} with value {x3_fmin:.4f}', end='\\n\\n')"
   ]
  },
  {
   "cell_type": "markdown",
   "metadata": {},
   "source": [
    "### Dichotomy Search"
   ]
  },
  {
   "cell_type": "code",
   "execution_count": 254,
   "metadata": {},
   "outputs": [],
   "source": [
    "def dichotomy(a, b, e, fx, verbose=False):\n",
    "\n",
    "    delta = random.uniform(0,e)\n",
    "\n",
    "    # steps of each iteration\n",
    "    steps = []\n",
    "    steps.append(f'a = {a}, b = {b}, delta = {delta}')\n",
    "\n",
    "    iter, f_iter = 0, 0\n",
    "    \n",
    "    while abs(a - b) > e:\n",
    "        # find central\n",
    "        x1 = (a + b - delta) / 2\n",
    "        x2 = (a + b + delta) / 2\n",
    "\n",
    "        # update a b\n",
    "        if fx(x1) <= fx(x2):\n",
    "            a, b = a, x2\n",
    "        else:\n",
    "            a, b = x1, b\n",
    "\n",
    "        steps.append(f'a = {a:.5f}, b = {b:.5f}, x1 = {x1:.5f}, x2 = {x2:.5f}, delta = {delta:.5f}')\n",
    "        iter += 1\n",
    "        f_iter += 2\n",
    "\n",
    "    if verbose:\n",
    "        print('\\n'.join(steps), end='\\n\\n')\n",
    "\n",
    "    print(f'Total iteration - {iter}')\n",
    "    print(f'Total function calls - {f_iter}')\n",
    "    print(f'Minimum at x{a:.4f} with value {fx(a):.4f}')\n",
    "\n",
    "    return a, b, iter, f_iter"
   ]
  },
  {
   "cell_type": "code",
   "execution_count": 255,
   "metadata": {},
   "outputs": [
    {
     "name": "stdout",
     "output_type": "stream",
     "text": [
      "Dichotomy Search on Function 1\n",
      "Total iteration - 12\n",
      "Total function calls - 24\n",
      "Minimum at x0.0000 with value 0.0000\n"
     ]
    },
    {
     "data": {
      "text/plain": [
       "(0, 0.000914863564560367, 12, 24)"
      ]
     },
     "execution_count": 255,
     "metadata": {},
     "output_type": "execute_result"
    }
   ],
   "source": [
    "print('Dichotomy Search on Function 1')\n",
    "dichotomy(0, 1, 0.001, f1, verbose=False)"
   ]
  },
  {
   "cell_type": "code",
   "execution_count": 256,
   "metadata": {},
   "outputs": [
    {
     "name": "stdout",
     "output_type": "stream",
     "text": [
      "Dichotomy Search on Function 2\n",
      "Total iteration - 11\n",
      "Total function calls - 22\n",
      "Minimum at x0.1997 with value 0.0003\n"
     ]
    },
    {
     "data": {
      "text/plain": [
       "(0.19968870081793755, 0.20026872386361444, 11, 22)"
      ]
     },
     "execution_count": 256,
     "metadata": {},
     "output_type": "execute_result"
    }
   ],
   "source": [
    "print('Dichotomy Search on Function 2')\n",
    "dichotomy(0, 1, 0.001, f2, verbose=False)"
   ]
  },
  {
   "cell_type": "code",
   "execution_count": 269,
   "metadata": {},
   "outputs": [
    {
     "name": "stdout",
     "output_type": "stream",
     "text": [
      "Dichotomy Search on Function 3\n",
      "Total iteration - 12\n",
      "Total function calls - 24\n",
      "Minimum at x0.2220 with value -0.2172\n"
     ]
    },
    {
     "data": {
      "text/plain": [
       "(0.2220494889967688, 0.22304874020204438, 12, 24)"
      ]
     },
     "execution_count": 269,
     "metadata": {},
     "output_type": "execute_result"
    }
   ],
   "source": [
    "print('Dichotomy Search on Function 3')\n",
    "dichotomy(0.01, 1, 0.001, f3, verbose=False)"
   ]
  },
  {
   "cell_type": "markdown",
   "metadata": {},
   "source": [
    "### Golden Search"
   ]
  },
  {
   "cell_type": "code",
   "execution_count": 257,
   "metadata": {},
   "outputs": [],
   "source": [
    "def golden(a, b, e, fx, verbose=False):\n",
    "\n",
    "    # step logs\n",
    "    steps = []\n",
    "\n",
    "    iter = 0\n",
    "\n",
    "    while abs(a - b) > e:\n",
    "        # find central on first iteration\n",
    "        if iter == 0:        \n",
    "            x1 = a + (3 - math.sqrt(5)) / 2 * (b - a)\n",
    "            x2 = b + (math.sqrt(5) - 3) / 2 * (b - a)\n",
    "\n",
    "            steps.append(f'a = {a:.5f}, b = {b:.5f}, x1 = {x1:.5f}, x2 = {x2:.5f}')\n",
    "\n",
    "            # f_iter += 1\n",
    "\n",
    "        # update a b\n",
    "        if fx(x1) <= fx(x2):\n",
    "            a, b, x2 = a, x2, x1\n",
    "            x1 = a + (3 - math.sqrt(5)) / 2 * (b - a)\n",
    "        else:\n",
    "            a, b, x1 = x1, b, x2\n",
    "            x2 = b + (math.sqrt(5) - 3) / 2 * (b - a)\n",
    "\n",
    "        steps.append(f'a = {a:.5f}, b = {b:.5f}, x1 = {x1:.5f}, x2 = {x2:.5f}')\n",
    "        iter += 1\n",
    "        # f_iter += 1\n",
    "\n",
    "    if verbose:\n",
    "        print('\\n'.join(steps), end='\\n\\n')\n",
    "    print(f'Total iteration - {iter}')\n",
    "    print(f'Total function calls - {len(steps)}')\n",
    "    print(f'Minimum at x{a:.4f} with value {fx(a):.4f}')\n",
    "\n",
    "    return a, b, iter, len(steps)\n"
   ]
  },
  {
   "cell_type": "code",
   "execution_count": 267,
   "metadata": {},
   "outputs": [
    {
     "name": "stdout",
     "output_type": "stream",
     "text": [
      "Golden Section Search on Function 1\n",
      "Total iteration - 15\n",
      "Total function calls - 16\n",
      "Minimum at x0.0000 with value 0.0000\n"
     ]
    },
    {
     "data": {
      "text/plain": [
       "(0, 0.000733137435857404, 15, 16)"
      ]
     },
     "execution_count": 267,
     "metadata": {},
     "output_type": "execute_result"
    }
   ],
   "source": [
    "print('Golden Section Search on Function 1')\n",
    "golden(0, 1, 0.001, f1, verbose=False)"
   ]
  },
  {
   "cell_type": "code",
   "execution_count": 259,
   "metadata": {},
   "outputs": [
    {
     "name": "stdout",
     "output_type": "stream",
     "text": [
      "Golden Section Search on Function 2\n",
      "Total iteration - 15\n",
      "Total function calls - 16\n",
      "Minimum at x0.1997 with value 0.0003\n"
     ]
    },
    {
     "data": {
      "text/plain": [
       "(0.199706745025657, 0.2004398824615144, 15, 16)"
      ]
     },
     "execution_count": 259,
     "metadata": {},
     "output_type": "execute_result"
    }
   ],
   "source": [
    "print('Golden Section Search on Function 2')\n",
    "golden(0, 1, 0.001, f2, verbose=False)"
   ]
  },
  {
   "cell_type": "code",
   "execution_count": 270,
   "metadata": {},
   "outputs": [
    {
     "name": "stdout",
     "output_type": "stream",
     "text": [
      "Golden Section Search on Function 3\n",
      "Total iteration - 15\n",
      "Total function calls - 16\n",
      "Minimum at x0.2224 with value -0.2172\n"
     ]
    },
    {
     "data": {
      "text/plain": [
       "(0.22235669058885382, 0.22308249665035265, 15, 16)"
      ]
     },
     "execution_count": 270,
     "metadata": {},
     "output_type": "execute_result"
    }
   ],
   "source": [
    "print('Golden Section Search on Function 3')\n",
    "golden(0.01, 1, 0.001, f3, verbose=False)"
   ]
  },
  {
   "cell_type": "markdown",
   "metadata": {},
   "source": [
    "## II. Multi dimensional methods of Exhaustive search, Gauss, and Nelder-Mead"
   ]
  },
  {
   "cell_type": "code",
   "execution_count": 224,
   "metadata": {},
   "outputs": [],
   "source": [
    "def generate_ab(seed=None):\n",
    "    if seed != None:\n",
    "        random.seed(seed)\n",
    "    return random.random(), random.random()\n",
    "\n",
    "def generate_noisy(a, b):\n",
    "    x = np.array([k/100 for k in range(100)])\n",
    "    y = np.array([(a * xk + b + np.random.normal(0,1)) for xk in x])\n",
    "    \n",
    "    return x, y\n",
    "    \n",
    "def _linear(a, b, x):\n",
    "    return a * x + b\n",
    "\n",
    "def _rational(a, b, x):\n",
    "    return a / (1 + b * x)\n",
    "\n",
    "def linear(init_point, *args):\n",
    "    '''please pass x and y into *args'''\n",
    "    a, b = init_point\n",
    "    x, y = args[0], args[1]    \n",
    "    return np.sum((_linear(a,b,x) - y)**2)\n",
    "\n",
    "def rational(init_point, *args):\n",
    "    '''please pass x and y into *args'''\n",
    "    a, b = init_point\n",
    "    x, y = args[0], args[1]\n",
    "    return np.sum((_rational(a, b, x) - y)**2)"
   ]
  },
  {
   "cell_type": "code",
   "execution_count": 230,
   "metadata": {},
   "outputs": [
    {
     "name": "stdout",
     "output_type": "stream",
     "text": [
      "0.7123429878269185 0.8397997363118733\n"
     ]
    },
    {
     "data": {
      "image/png": "[encoded data removed]",
      "text/plain": [
       "<Figure size 432x288 with 1 Axes>"
      ]
     },
     "metadata": {
      "needs_background": "light"
     },
     "output_type": "display_data"
    }
   ],
   "source": [
    "a, b = generate_ab(24)\n",
    "x, y = generate_noisy(a, b)\n",
    "yk = a * x + b\n",
    "print(a, b)\n",
    "\n",
    "plt.scatter(x, y, alpha=0.6)\n",
    "plt.show()"
   ]
  },
  {
   "cell_type": "markdown",
   "metadata": {},
   "source": [
    "### Exhaustive"
   ]
  },
  {
   "cell_type": "code",
   "execution_count": 279,
   "metadata": {},
   "outputs": [
    {
     "name": "stdout",
     "output_type": "stream",
     "text": [
      "Exhaustive Search on Linear function\n",
      "Optimization terminated successfully.\n",
      "         Current function value: 70.687447\n",
      "         Iterations: 31\n",
      "         Function evaluations: 57\n",
      "[0.96263248 0.56182732]\n",
      "\n",
      "Exhaustive Search on Rational function\n",
      "Optimization terminated successfully.\n",
      "         Current function value: 69.752096\n",
      "         Iterations: 44\n",
      "         Function evaluations: 85\n",
      "[ 0.65247344 -0.63887088]\n"
     ]
    }
   ],
   "source": [
    "grid = (slice(a, b, 0.001), slice(a, b, 0.001))\n",
    "\n",
    "print('Exhaustive Search on Linear function')\n",
    "exhaustive_linear = brute(linear, grid, args=(x, y), disp=True)\n",
    "print(exhaustive_linear, end='\\n\\n')\n",
    "\n",
    "print('Exhaustive Search on Rational function')\n",
    "exhaustive_rational = brute(rational, grid, args=(x, y), disp=True)\n",
    "print(exhaustive_rational)"
   ]
  },
  {
   "cell_type": "markdown",
   "metadata": {},
   "source": [
    "### Gauss"
   ]
  },
  {
   "cell_type": "code",
   "execution_count": 275,
   "metadata": {},
   "outputs": [
    {
     "name": "stdout",
     "output_type": "stream",
     "text": [
      "Gauss (coordinate descent) on Linear function\n",
      "Optimization terminated successfully.\n",
      "         Current function value: 70.687447\n",
      "         Iterations: 3\n",
      "         Function evaluations: 95\n",
      "[0.96266095 0.56180623]\n",
      "\n",
      "Gauss (coordinate descent) on Rational function\n",
      "Optimization terminated successfully.\n",
      "         Current function value: 69.752097\n",
      "         Iterations: 5\n",
      "         Function evaluations: 127\n",
      "[ 0.65240855 -0.63894954]\n"
     ]
    }
   ],
   "source": [
    "print('Gauss (coordinate descent) on Linear function')\n",
    "gauss_linear = minimize(linear, [a, b], args=(x, y), method='Powell', tol=0.001, options={'disp': True})\n",
    "print(gauss_linear['x'], end='\\n\\n')\n",
    "\n",
    "print('Gauss (coordinate descent) on Rational function')\n",
    "gauss_rational = minimize(rational, [a, b], args=(x, y), method='Powell', tol=0.001, options={'disp': True})\n",
    "print(gauss_rational['x'])"
   ]
  },
  {
   "cell_type": "markdown",
   "metadata": {},
   "source": [
    "### Nelder-Mead"
   ]
  },
  {
   "cell_type": "code",
   "execution_count": 276,
   "metadata": {},
   "outputs": [
    {
     "name": "stdout",
     "output_type": "stream",
     "text": [
      "Nelder-Mead on Linear function\n",
      "Optimization terminated successfully.\n",
      "         Current function value: 70.687448\n",
      "         Iterations: 28\n",
      "         Function evaluations: 54\n",
      "[0.96275325 0.56185148]\n",
      "\n",
      "Nelder-Mead on Rational function\n",
      "Optimization terminated successfully.\n",
      "         Current function value: 69.752113\n",
      "         Iterations: 38\n",
      "         Function evaluations: 73\n",
      "[ 0.65290368 -0.63832734]\n"
     ]
    }
   ],
   "source": [
    "print('Nelder-Mead on Linear function')\n",
    "nelder_linear = minimize(linear, [a, b], args=(x, y), method='nelder-mead', tol=0.001, options={'disp': True})\n",
    "print(nelder_linear['x'], end='\\n\\n')\n",
    "\n",
    "print('Nelder-Mead on Rational function')\n",
    "nelder_rational = minimize(rational, [a, b], args=(x, y), method='nelder-mead', tol=0.001, options={'disp': True})\n",
    "print(nelder_rational['x'])"
   ]
  },
  {
   "cell_type": "markdown",
   "metadata": {},
   "source": [
    "### Plot"
   ]
  },
  {
   "cell_type": "code",
   "execution_count": 277,
   "metadata": {},
   "outputs": [
    {
     "data": {
      "image/png": "[encoded data removed]",
      "text/plain": [
       "<Figure size 576x360 with 1 Axes>"
      ]
     },
     "metadata": {
      "needs_background": "light"
     },
     "output_type": "display_data"
    }
   ],
   "source": [
    "plt.figure(figsize=(8,5))\n",
    "plt.title('Linear')\n",
    "plt.scatter(x, y, alpha=0.4, s=60)\n",
    "plt.plot(x, yk, linewidth=2, label='Non-Noise')\n",
    "plt.plot(x, _linear(exhaustive_linear[0], exhaustive_linear[1], x), label='Exhaustive')\n",
    "plt.plot(x, _linear(gauss_linear['x'][0], gauss_linear['x'][1], x), label='Gauss')\n",
    "plt.plot(x, _linear(nelder_linear['x'][0], nelder_linear['x'][1], x), label='Nelder-Mead')\n",
    "plt.legend()\n",
    "plt.show()"
   ]
  },
  {
   "cell_type": "code",
   "execution_count": 278,
   "metadata": {},
   "outputs": [
    {
     "data": {
      "image/png": "[encoded data removed]",
      "text/plain": [
       "<Figure size 576x360 with 1 Axes>"
      ]
     },
     "metadata": {
      "needs_background": "light"
     },
     "output_type": "display_data"
    }
   ],
   "source": [
    "plt.figure(figsize=(8,5))\n",
    "plt.title('Rational')\n",
    "plt.scatter(x, y, alpha=0.4, s=60)\n",
    "plt.plot(x, yk, linewidth=2, label='Non-Noise')\n",
    "plt.plot(x, _rational(exhaustive_rational[0], exhaustive_rational[1], x), label='Exhaustive')\n",
    "plt.plot(x, _rational(gauss_rational['x'][0], gauss_rational['x'][1], x), label='Gauss')\n",
    "plt.plot(x, _rational(nelder_rational['x'][0], nelder_rational['x'][1], x), label='Nelder-Mead')\n",
    "plt.legend()\n",
    "plt.show()"
   ]
  },
  {
   "cell_type": "code",
   "execution_count": null,
   "metadata": {},
   "outputs": [],
   "source": []
  }
 ],
 "metadata": {
  "interpreter": {
   "hash": "40d3a090f54c6569ab1632332b64b2c03c39dcf918b08424e98f38b5ae0af88f"
  },
  "kernelspec": {
   "display_name": "Python 3.8.8 64-bit ('base': conda)",
   "language": "python",
   "name": "python3"
  },
  "language_info": {
   "codemirror_mode": {
    "name": "ipython",
    "version": 3
   },
   "file_extension": ".py",
   "mimetype": "text/x-python",
   "name": "python",
   "nbconvert_exporter": "python",
   "pygments_lexer": "ipython3",
   "version": "3.8.8"
  },
  "orig_nbformat": 4
 },
 "nbformat": 4,
 "nbformat_minor": 2
}
